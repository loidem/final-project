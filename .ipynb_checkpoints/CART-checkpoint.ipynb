{
 "cells": [
  {
   "cell_type": "code",
   "execution_count": 213,
   "metadata": {},
   "outputs": [],
   "source": [
    "import random\n",
    "import matplotlib\n",
    "import pandas as pd\n",
    "import time\n",
    "import graphviz\n",
    "import numpy as np\n",
    "import matplotlib.pyplot as plt\n",
    "from sklearn import tree, metrics\n",
    "from sklearn.model_selection import train_test_split\n",
    "from sklearn.feature_extraction.text import TfidfVectorizer\n",
    "from sklearn.tree import tree, DecisionTreeClassifier\n",
    "from sklearn.metrics import roc_curve\n",
    "from sklearn.metrics import roc_auc_score\n",
    "from sklearn.metrics import precision_recall_curve\n",
    "from sklearn.metrics import f1_score\n",
    "from sklearn.metrics import auc\n",
    "from sklearn.metrics import average_precision_score\n",
    "from sklearn.metrics import confusion_matrix\n",
    "from sklearn.metrics import classification_report\n",
    "%matplotlib inline"
   ]
  },
  {
   "cell_type": "code",
   "execution_count": 214,
   "metadata": {},
   "outputs": [],
   "source": [
    "#custom tokenizer for URLs. \n",
    "#first split - \"/\"\n",
    "#second split - \"-\"\n",
    "#third split - \".\"\n",
    "#remove \".com\" (also \"http://\", but we dont have \"http://\" in our dataset)\n",
    "def getTokens(input):\n",
    "    tokensBySlash = str(input.encode('utf-8')).split('/')\n",
    "    allTokens = []\n",
    "    for i in tokensBySlash:\n",
    "        tokens = str(i).split('-')\n",
    "        tokensByDot = []\n",
    "        for j in range(0,len(tokens)):\n",
    "            tempTokens = str(tokens[j]).split('.')\n",
    "            tokensByDot = tokensByDot + tempTokens\n",
    "        allTokens = allTokens + tokens + tokensByDot\n",
    "    allTokens = list(set(allTokens))\n",
    "    if 'com' in allTokens:\n",
    "        allTokens.remove('com')\n",
    "    return allTokens\n",
    "\n",
    "#function to remove \"http://\" from URL\n",
    "def trim(url):\n",
    "    return re.match(r'(?:\\w*://)?(?:.*\\.)?([a-zA-Z-1-9]*\\.[a-zA-Z]{1,}).*', url).groups()[0]\n"
   ]
  },
  {
   "cell_type": "code",
   "execution_count": 215,
   "metadata": {},
   "outputs": [
    {
     "data": {
      "text/html": [
       "<div>\n",
       "<style scoped>\n",
       "    .dataframe tbody tr th:only-of-type {\n",
       "        vertical-align: middle;\n",
       "    }\n",
       "\n",
       "    .dataframe tbody tr th {\n",
       "        vertical-align: top;\n",
       "    }\n",
       "\n",
       "    .dataframe thead th {\n",
       "        text-align: right;\n",
       "    }\n",
       "</style>\n",
       "<table border=\"1\" class=\"dataframe\">\n",
       "  <thead>\n",
       "    <tr style=\"text-align: right;\">\n",
       "      <th></th>\n",
       "      <th>URL</th>\n",
       "      <th>Lable</th>\n",
       "    </tr>\n",
       "  </thead>\n",
       "  <tbody>\n",
       "    <tr>\n",
       "      <th>0</th>\n",
       "      <td>http://www.microsoft.com/careers/</td>\n",
       "      <td>0</td>\n",
       "    </tr>\n",
       "    <tr>\n",
       "      <th>1</th>\n",
       "      <td>http://plato.stanford.edu/entries/constitution...</td>\n",
       "      <td>0</td>\n",
       "    </tr>\n",
       "    <tr>\n",
       "      <th>2</th>\n",
       "      <td>http://www.pajtasbiciklibolt.hu/sites/default/...</td>\n",
       "      <td>1</td>\n",
       "    </tr>\n",
       "    <tr>\n",
       "      <th>3</th>\n",
       "      <td>http://www.finecandies.com/</td>\n",
       "      <td>0</td>\n",
       "    </tr>\n",
       "    <tr>\n",
       "      <th>4</th>\n",
       "      <td>http://bukfa.hu/2014/</td>\n",
       "      <td>1</td>\n",
       "    </tr>\n",
       "  </tbody>\n",
       "</table>\n",
       "</div>"
      ],
      "text/plain": [
       "                                                 URL  Lable\n",
       "0                  http://www.microsoft.com/careers/      0\n",
       "1  http://plato.stanford.edu/entries/constitution...      0\n",
       "2  http://www.pajtasbiciklibolt.hu/sites/default/...      1\n",
       "3                        http://www.finecandies.com/      0\n",
       "4                              http://bukfa.hu/2014/      1"
      ]
     },
     "execution_count": 215,
     "metadata": {},
     "output_type": "execute_result"
    }
   ],
   "source": [
    "df = pd.read_csv(r'C:\\Users\\Kephas\\Desktop\\Demo\\dataset.csv',',',error_bad_lines=False)\n",
    "df = df.sample(frac=1).reset_index(drop=True)\n",
    "df.head()"
   ]
  },
  {
   "cell_type": "code",
   "execution_count": 216,
   "metadata": {},
   "outputs": [
    {
     "data": {
      "text/plain": [
       "7030"
      ]
     },
     "execution_count": 216,
     "metadata": {},
     "output_type": "execute_result"
    }
   ],
   "source": [
    "#displaying the number of rows in a dataset\n",
    "len(df) "
   ]
  },
  {
   "cell_type": "code",
   "execution_count": 217,
   "metadata": {},
   "outputs": [],
   "source": [
    "#data['url'].values\n",
    "x = df.iloc[:,0:1].values\n",
    "y = df.iloc[:,1].values"
   ]
  },
  {
   "cell_type": "code",
   "execution_count": 218,
   "metadata": {},
   "outputs": [],
   "source": [
    "#convert it into numpy array and shuffle the dataset\n",
    "df = np.array(df)\n",
    "random.shuffle(df)"
   ]
  },
  {
   "cell_type": "code",
   "execution_count": 219,
   "metadata": {},
   "outputs": [],
   "source": [
    "#convert text data into numerical data for machine learning models\n",
    "y = [d[1] for d in df]\n",
    "corpus = [d[0] for d in df]\n",
    "vectorizer = TfidfVectorizer(tokenizer=getTokens)\n",
    "X = vectorizer.fit_transform(corpus)"
   ]
  },
  {
   "cell_type": "code",
   "execution_count": 220,
   "metadata": {},
   "outputs": [],
   "source": [
    "#split the data set inot train and test\n",
    "X_train, X_test, y_train, y_test = train_test_split(X, y, test_size=0.2, random_state=1)"
   ]
  },
  {
   "cell_type": "code",
   "execution_count": 221,
   "metadata": {},
   "outputs": [
    {
     "data": {
      "text/plain": [
       "DecisionTreeClassifier(class_weight=None, criterion='entropy', max_depth=2,\n",
       "            max_features=None, max_leaf_nodes=None,\n",
       "            min_impurity_decrease=0.0, min_impurity_split=None,\n",
       "            min_samples_leaf=1, min_samples_split=2,\n",
       "            min_weight_fraction_leaf=0.0, presort=False, random_state=0,\n",
       "            splitter='best')"
      ]
     },
     "execution_count": 221,
     "metadata": {},
     "output_type": "execute_result"
    }
   ],
   "source": [
    "CART = tree.DecisionTreeClassifier(criterion='entropy',max_depth=2, random_state=0)\n",
    "CART.fit(X_train, y_train)"
   ]
  },
  {
   "cell_type": "code",
   "execution_count": 222,
   "metadata": {},
   "outputs": [
    {
     "name": "stdout",
     "output_type": "stream",
     "text": [
      "Accuracy:  0.8520625889046942\n"
     ]
    }
   ],
   "source": [
    "y_pred_class = CART.predict(X_test)\n",
    "print(\"Accuracy: \",CART.score(X_test, y_test))"
   ]
  },
  {
   "cell_type": "code",
   "execution_count": 223,
   "metadata": {},
   "outputs": [
    {
     "name": "stdout",
     "output_type": "stream",
     "text": [
      "[[570 111]\n",
      " [ 97 628]]\n",
      "False positive rate : 16.30 %\n",
      "False negative rate : 13.38 %\n"
     ]
    }
   ],
   "source": [
    "predicted =CART.predict(X_test)\n",
    "cm = confusion_matrix(y_test, predicted)\n",
    "print(cm)\n",
    "\n",
    "print(\"False positive rate : %.2f %%\" % ((cm[0][1] / float(sum(cm[0])))*100))\n",
    "print('False negative rate : %.2f %%' % ( (cm[1][0] / float(sum(cm[1]))*100)))"
   ]
  },
  {
   "cell_type": "code",
   "execution_count": 224,
   "metadata": {},
   "outputs": [
    {
     "name": "stdout",
     "output_type": "stream",
     "text": [
      "             precision    recall  f1-score   support\n",
      "\n",
      "          0       0.85      0.84      0.85       681\n",
      "          1       0.85      0.87      0.86       725\n",
      "\n",
      "avg / total       0.85      0.85      0.85      1406\n",
      "\n"
     ]
    }
   ],
   "source": [
    "report = classification_report(y_test, predicted)\n",
    "print(report)"
   ]
  },
  {
   "cell_type": "code",
   "execution_count": 225,
   "metadata": {},
   "outputs": [
    {
     "data": {
      "image/png": "[encoded data removed]",
      "text/plain": [
       "<matplotlib.figure.Figure at 0x29a620eb908>"
      ]
     },
     "metadata": {
      "needs_background": "light"
     },
     "output_type": "display_data"
    }
   ],
   "source": [
    "# Plot with Labels\n",
    "plt.clf()\n",
    "plt.imshow(cm, interpolation='nearest', cmap=plt.cm.Wistia)\n",
    "plt.title('Confusion Matrix for Classifer (CART) ')\n",
    "\n",
    "#sns.heatmap(matrix,annot=True,fmt=\"d\")\n",
    "# Set x-axis label\n",
    "classNames = ['Negative','Positive']\n",
    "plt.xlabel('Predicted label')\n",
    "# Set y-axis label\n",
    "plt.ylabel('True label')\n",
    "tick_marks = np.arange(len(classNames))\n",
    "plt.xticks(tick_marks, classNames, rotation=45)\n",
    "plt.yticks(tick_marks, classNames)\n",
    "s = [['TN','FP'], ['FN', 'TP']]\n",
    "for i in range(2):\n",
    "    for j in range(2):\n",
    "        plt.text(j,i, str(s[i][j])+\" = \"+str(cm[i][j]))\n",
    "plt.show()"
   ]
  },
  {
   "cell_type": "code",
   "execution_count": 226,
   "metadata": {},
   "outputs": [
    {
     "name": "stdout",
     "output_type": "stream",
     "text": [
      "AUC: 0.894\n"
     ]
    }
   ],
   "source": [
    "# predict probabilities\n",
    "probs = CART.predict_proba(X_test)\n",
    "# keep probabilities for the positive outcome only\n",
    "probs = probs[:, 1]\n",
    "# calculate AUC\n",
    "auc = roc_auc_score(y_test, probs)\n",
    "print('AUC: %.3f' % auc)"
   ]
  },
  {
   "cell_type": "code",
   "execution_count": 227,
   "metadata": {},
   "outputs": [
    {
     "data": {
      "image/png": "[encoded data removed]",
      "text/plain": [
       "<matplotlib.figure.Figure at 0x29a642ab320>"
      ]
     },
     "metadata": {
      "needs_background": "light"
     },
     "output_type": "display_data"
    }
   ],
   "source": [
    "# calculate roc curve\n",
    "fpr, tpr, thresholds = roc_curve(y_test, probs)\n",
    "#print(fpr, tpr, thresholds)\n",
    "plt.plot(fpr, tpr, color='darkorange',\n",
    "         lw=2, label='Decision Tree (area = %0.2f)' % auc)\n",
    "# plot no skill\n",
    "plt.plot([0, 1], [0, 1], linestyle='--')\n",
    "# plot the roc curve for the model\n",
    "plt.plot(fpr, tpr, marker='.')\n",
    "plt.xlabel('False Postive Rate')\n",
    "plt.ylabel('True Postive Rate')\n",
    "plt.title('ROC curve')\n",
    "plt.legend(loc=\"lower right\")\n",
    "# show the plot\n",
    "plt.show()"
   ]
  },
  {
   "cell_type": "code",
   "execution_count": 228,
   "metadata": {},
   "outputs": [
    {
     "name": "stdout",
     "output_type": "stream",
     "text": [
      "New prediction [1 1 1 1 1]\n"
     ]
    }
   ],
   "source": [
    "#Predicting With Our Model\n",
    "X_predict = [\"google.com/search=jcharistech\",\n",
    "\"google.com/search=faizanahmad\", \n",
    "\"www.radsport-voggel.de/wp-admin/includes/log.exe\", \n",
    "\"ahrenhei.without-transfer.ru/nethost.exe \",\n",
    "\"www.itidea.it/centroesteticosothys/img/_notes/gum.exe\"]\n",
    "\n",
    "X_predict = vectorizer.transform(X_predict)\n",
    "New_predict = CART.predict(X_predict)\n",
    "\n",
    "\n",
    "print(\"New prediction\",New_predict)"
   ]
  },
  {
   "cell_type": "code",
   "execution_count": 229,
   "metadata": {},
   "outputs": [
    {
     "name": "stdout",
     "output_type": "stream",
     "text": [
      "[1 1 1 1]\n"
     ]
    }
   ],
   "source": [
    "X_predict1 = [\"www.buyfakebillsonlinee.blogspot.com\", \n",
    "\"www.unitedairlineslogistics.com\",\n",
    "\"www.stonehousedelivery.com\",\n",
    "\"www.silkroadmeds-onlinepharmacy.com\" ]\n",
    "\n",
    "X_predict1 = vectorizer.transform(X_predict1)\n",
    "New_predict1 = CART.predict(X_predict1)\n",
    "print(New_predict1)"
   ]
  },
  {
   "cell_type": "code",
   "execution_count": 230,
   "metadata": {},
   "outputs": [
    {
     "name": "stdout",
     "output_type": "stream",
     "text": [
      "[1 1 0]\n"
     ]
    }
   ],
   "source": [
    "#Testing using legitimate URLs\n",
    "X_predict_2 =[\"www.unam.edu.na\",\n",
    "              \"www.nust.edu.na\",\n",
    "              \"www.silnam.na/\"\n",
    "]\n",
    "\n",
    "X_predict_2 = vectorizer.transform(X_predict_2)\n",
    "New_prediction2 = CART.predict(X_predict_2)\n",
    "print(New_prediction2)"
   ]
  },
  {
   "cell_type": "code",
   "execution_count": null,
   "metadata": {},
   "outputs": [],
   "source": []
  }
 ],
 "metadata": {
  "kernelspec": {
   "display_name": "Python 3",
   "language": "python",
   "name": "python3"
  },
  "language_info": {
   "codemirror_mode": {
    "name": "ipython",
    "version": 3
   },
   "file_extension": ".py",
   "mimetype": "text/x-python",
   "name": "python",
   "nbconvert_exporter": "python",
   "pygments_lexer": "ipython3",
   "version": "3.6.6"
  }
 },
 "nbformat": 4,
 "nbformat_minor": 2
}
